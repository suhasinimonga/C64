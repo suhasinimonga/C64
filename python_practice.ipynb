{
  "cells": [
    {
      "cell_type": "markdown",
      "metadata": {
        "id": "view-in-github",
        "colab_type": "text"
      },
      "source": [
        "<a href=\"https://colab.research.google.com/github/suhasinimonga/C64/blob/main/python_practice.ipynb\" target=\"_parent\"><img src=\"https://colab.research.google.com/assets/colab-badge.svg\" alt=\"Open In Colab\"/></a>"
      ]
    },
    {
      "cell_type": "code",
      "execution_count": null,
      "metadata": {
        "colab": {
          "base_uri": "https://localhost:8080/"
        },
        "id": "cLuTj7QtBRBC",
        "outputId": "8f5f3e4c-61c9-49e4-e77e-3f657c586fa1"
      },
      "outputs": [
        {
          "name": "stdout",
          "output_type": "stream",
          "text": [
            "[2, 12, 34]\n"
          ]
        }
      ],
      "source": [
        "'''L =[10,15,20,2,5,30]\n",
        "L.insert(3,4)\n",
        "L.insert(-2,3)\n",
        "#print(L)\n",
        "print(L)\n",
        "a = 11\n",
        "b= 5\n",
        "print(a//b)\n",
        "print(2**3**2)'''\n",
        "\n",
        "L = \"good\"\n",
        "L=[12,2,34]\n",
        "n = 2\n",
        "#print(L*n)\n",
        "\n",
        "print(sorted(L))\n",
        "\n"
      ]
    },
    {
      "cell_type": "code",
      "source": [
        "import pandas as pd\n",
        "s = pd.Series([5,7,8,9,45,34,67])\n",
        "print(s[-6:-1:-1])"
      ],
      "metadata": {
        "colab": {
          "base_uri": "https://localhost:8080/"
        },
        "id": "tT7U49ueyBL1",
        "outputId": "5b8a4e2d-addb-43c4-f9c9-7a3f768a1582"
      },
      "execution_count": null,
      "outputs": [
        {
          "output_type": "stream",
          "name": "stdout",
          "text": [
            "Series([], dtype: int64)\n"
          ]
        }
      ]
    },
    {
      "cell_type": "code",
      "source": [
        "def f(p,q,r,s):\n",
        " return p,q,r,s\n",
        "\n",
        "f(2,3,r=4,s=5)"
      ],
      "metadata": {
        "colab": {
          "base_uri": "https://localhost:8080/"
        },
        "id": "fGsjNnJ-Md0Q",
        "outputId": "69110229-b5a9-4ad2-b71d-05c970659f80"
      },
      "execution_count": null,
      "outputs": [
        {
          "output_type": "execute_result",
          "data": {
            "text/plain": [
              "(2, 3, 4, 5)"
            ]
          },
          "metadata": {},
          "execution_count": 12
        }
      ]
    },
    {
      "cell_type": "code",
      "source": [
        "# scope of variable: local,enclosing(nonlocal),global,builtin: LEGB\n",
        "def outer():\n",
        "  a = 10\n",
        "  b =20\n",
        "  print(a+b)\n",
        "  def inner():\n",
        "    nonlocal a\n",
        "    a +=20\n",
        "    print(a-b)\n",
        "  inner()\n",
        "\n",
        "a=100\n",
        "b=200\n",
        "print(a+b)\n",
        "outer()\n",
        "print(a+b)\n",
        "\n",
        "from math import pi as p\n",
        "def outer():\n",
        "  p = 20\n",
        "  print(p)\n",
        "  def inner():\n",
        "    print(p)\n",
        "  inner()\n",
        "\n",
        "p = 10\n",
        "outer()\n",
        "print(p)\n"
      ],
      "metadata": {
        "colab": {
          "base_uri": "https://localhost:8080/"
        },
        "id": "ypQiGQTwgAhU",
        "outputId": "f829abc9-ed19-4015-ee0d-28ead37c5321"
      },
      "execution_count": null,
      "outputs": [
        {
          "output_type": "stream",
          "name": "stdout",
          "text": [
            "300\n",
            "30\n",
            "10\n",
            "300\n",
            "20\n",
            "20\n",
            "10\n"
          ]
        }
      ]
    },
    {
      "cell_type": "code",
      "source": [
        "x ,y ,z = 11,20,8\n",
        "if x>0:\n",
        "  if y>10:\n",
        "    print(\"JAVA\")\n",
        "  if y>10:\n",
        "    print(\"PYThon\")\n",
        "elif z>10:\n",
        "  print(\"Lotlin\")\n"
      ],
      "metadata": {
        "colab": {
          "base_uri": "https://localhost:8080/"
        },
        "id": "RZNHmyY-tvjg",
        "outputId": "1daf2b09-fe87-491e-c2f4-1a0ee9e1688d"
      },
      "execution_count": null,
      "outputs": [
        {
          "output_type": "stream",
          "name": "stdout",
          "text": [
            "JAVA\n",
            "PYThon\n"
          ]
        }
      ]
    },
    {
      "cell_type": "code",
      "source": [
        "\n",
        "a = \"suhasini\"\n",
        "b =a.split(\"u\")\n",
        "print(type(b))\n",
        "print(b)\n",
        "\n",
        "c =a.partition(\"u\")\n",
        "print(type(c))\n",
        "print(c)\n"
      ],
      "metadata": {
        "colab": {
          "base_uri": "https://localhost:8080/"
        },
        "id": "VDDW4Ywcb3Vn",
        "outputId": "bfb03ad2-939f-458d-93e8-1c0a405b3abf"
      },
      "execution_count": null,
      "outputs": [
        {
          "output_type": "stream",
          "name": "stdout",
          "text": [
            "<class 'list'>\n",
            "['s', 'hasini']\n",
            "<class 'tuple'>\n",
            "('s', 'u', 'hasini')\n"
          ]
        }
      ]
    },
    {
      "cell_type": "code",
      "source": [
        "st = \"ABC\"\n",
        "l = \"#\".join(st)\n",
        "\n",
        "for x in l:\n",
        "  print(chr(ord(x)+2).upper(),end = \"@\")"
      ],
      "metadata": {
        "colab": {
          "base_uri": "https://localhost:8080/"
        },
        "id": "yX5SKVARckR8",
        "outputId": "85e7e629-a8ee-4503-9b83-e8850209a142"
      },
      "execution_count": null,
      "outputs": [
        {
          "output_type": "stream",
          "name": "stdout",
          "text": [
            "C@%@D@%@E@"
          ]
        }
      ]
    },
    {
      "cell_type": "code",
      "source": [
        "from google.colab import files\n",
        "f = files.upload()\n"
      ],
      "metadata": {
        "colab": {
          "base_uri": "https://localhost:8080/",
          "height": 74
        },
        "id": "Ab8M3w_crVnG",
        "outputId": "8937343d-15d3-46f0-de22-3060cc24c49b"
      },
      "execution_count": null,
      "outputs": [
        {
          "output_type": "display_data",
          "data": {
            "text/plain": [
              "<IPython.core.display.HTML object>"
            ],
            "text/html": [
              "\n",
              "     <input type=\"file\" id=\"files-518e3af6-9edd-4209-b603-88f17c08e8aa\" name=\"files[]\" multiple disabled\n",
              "        style=\"border:none\" />\n",
              "     <output id=\"result-518e3af6-9edd-4209-b603-88f17c08e8aa\">\n",
              "      Upload widget is only available when the cell has been executed in the\n",
              "      current browser session. Please rerun this cell to enable.\n",
              "      </output>\n",
              "      <script>// Copyright 2017 Google LLC\n",
              "//\n",
              "// Licensed under the Apache License, Version 2.0 (the \"License\");\n",
              "// you may not use this file except in compliance with the License.\n",
              "// You may obtain a copy of the License at\n",
              "//\n",
              "//      http://www.apache.org/licenses/LICENSE-2.0\n",
              "//\n",
              "// Unless required by applicable law or agreed to in writing, software\n",
              "// distributed under the License is distributed on an \"AS IS\" BASIS,\n",
              "// WITHOUT WARRANTIES OR CONDITIONS OF ANY KIND, either express or implied.\n",
              "// See the License for the specific language governing permissions and\n",
              "// limitations under the License.\n",
              "\n",
              "/**\n",
              " * @fileoverview Helpers for google.colab Python module.\n",
              " */\n",
              "(function(scope) {\n",
              "function span(text, styleAttributes = {}) {\n",
              "  const element = document.createElement('span');\n",
              "  element.textContent = text;\n",
              "  for (const key of Object.keys(styleAttributes)) {\n",
              "    element.style[key] = styleAttributes[key];\n",
              "  }\n",
              "  return element;\n",
              "}\n",
              "\n",
              "// Max number of bytes which will be uploaded at a time.\n",
              "const MAX_PAYLOAD_SIZE = 100 * 1024;\n",
              "\n",
              "function _uploadFiles(inputId, outputId) {\n",
              "  const steps = uploadFilesStep(inputId, outputId);\n",
              "  const outputElement = document.getElementById(outputId);\n",
              "  // Cache steps on the outputElement to make it available for the next call\n",
              "  // to uploadFilesContinue from Python.\n",
              "  outputElement.steps = steps;\n",
              "\n",
              "  return _uploadFilesContinue(outputId);\n",
              "}\n",
              "\n",
              "// This is roughly an async generator (not supported in the browser yet),\n",
              "// where there are multiple asynchronous steps and the Python side is going\n",
              "// to poll for completion of each step.\n",
              "// This uses a Promise to block the python side on completion of each step,\n",
              "// then passes the result of the previous step as the input to the next step.\n",
              "function _uploadFilesContinue(outputId) {\n",
              "  const outputElement = document.getElementById(outputId);\n",
              "  const steps = outputElement.steps;\n",
              "\n",
              "  const next = steps.next(outputElement.lastPromiseValue);\n",
              "  return Promise.resolve(next.value.promise).then((value) => {\n",
              "    // Cache the last promise value to make it available to the next\n",
              "    // step of the generator.\n",
              "    outputElement.lastPromiseValue = value;\n",
              "    return next.value.response;\n",
              "  });\n",
              "}\n",
              "\n",
              "/**\n",
              " * Generator function which is called between each async step of the upload\n",
              " * process.\n",
              " * @param {string} inputId Element ID of the input file picker element.\n",
              " * @param {string} outputId Element ID of the output display.\n",
              " * @return {!Iterable<!Object>} Iterable of next steps.\n",
              " */\n",
              "function* uploadFilesStep(inputId, outputId) {\n",
              "  const inputElement = document.getElementById(inputId);\n",
              "  inputElement.disabled = false;\n",
              "\n",
              "  const outputElement = document.getElementById(outputId);\n",
              "  outputElement.innerHTML = '';\n",
              "\n",
              "  const pickedPromise = new Promise((resolve) => {\n",
              "    inputElement.addEventListener('change', (e) => {\n",
              "      resolve(e.target.files);\n",
              "    });\n",
              "  });\n",
              "\n",
              "  const cancel = document.createElement('button');\n",
              "  inputElement.parentElement.appendChild(cancel);\n",
              "  cancel.textContent = 'Cancel upload';\n",
              "  const cancelPromise = new Promise((resolve) => {\n",
              "    cancel.onclick = () => {\n",
              "      resolve(null);\n",
              "    };\n",
              "  });\n",
              "\n",
              "  // Wait for the user to pick the files.\n",
              "  const files = yield {\n",
              "    promise: Promise.race([pickedPromise, cancelPromise]),\n",
              "    response: {\n",
              "      action: 'starting',\n",
              "    }\n",
              "  };\n",
              "\n",
              "  cancel.remove();\n",
              "\n",
              "  // Disable the input element since further picks are not allowed.\n",
              "  inputElement.disabled = true;\n",
              "\n",
              "  if (!files) {\n",
              "    return {\n",
              "      response: {\n",
              "        action: 'complete',\n",
              "      }\n",
              "    };\n",
              "  }\n",
              "\n",
              "  for (const file of files) {\n",
              "    const li = document.createElement('li');\n",
              "    li.append(span(file.name, {fontWeight: 'bold'}));\n",
              "    li.append(span(\n",
              "        `(${file.type || 'n/a'}) - ${file.size} bytes, ` +\n",
              "        `last modified: ${\n",
              "            file.lastModifiedDate ? file.lastModifiedDate.toLocaleDateString() :\n",
              "                                    'n/a'} - `));\n",
              "    const percent = span('0% done');\n",
              "    li.appendChild(percent);\n",
              "\n",
              "    outputElement.appendChild(li);\n",
              "\n",
              "    const fileDataPromise = new Promise((resolve) => {\n",
              "      const reader = new FileReader();\n",
              "      reader.onload = (e) => {\n",
              "        resolve(e.target.result);\n",
              "      };\n",
              "      reader.readAsArrayBuffer(file);\n",
              "    });\n",
              "    // Wait for the data to be ready.\n",
              "    let fileData = yield {\n",
              "      promise: fileDataPromise,\n",
              "      response: {\n",
              "        action: 'continue',\n",
              "      }\n",
              "    };\n",
              "\n",
              "    // Use a chunked sending to avoid message size limits. See b/62115660.\n",
              "    let position = 0;\n",
              "    do {\n",
              "      const length = Math.min(fileData.byteLength - position, MAX_PAYLOAD_SIZE);\n",
              "      const chunk = new Uint8Array(fileData, position, length);\n",
              "      position += length;\n",
              "\n",
              "      const base64 = btoa(String.fromCharCode.apply(null, chunk));\n",
              "      yield {\n",
              "        response: {\n",
              "          action: 'append',\n",
              "          file: file.name,\n",
              "          data: base64,\n",
              "        },\n",
              "      };\n",
              "\n",
              "      let percentDone = fileData.byteLength === 0 ?\n",
              "          100 :\n",
              "          Math.round((position / fileData.byteLength) * 100);\n",
              "      percent.textContent = `${percentDone}% done`;\n",
              "\n",
              "    } while (position < fileData.byteLength);\n",
              "  }\n",
              "\n",
              "  // All done.\n",
              "  yield {\n",
              "    response: {\n",
              "      action: 'complete',\n",
              "    }\n",
              "  };\n",
              "}\n",
              "\n",
              "scope.google = scope.google || {};\n",
              "scope.google.colab = scope.google.colab || {};\n",
              "scope.google.colab._files = {\n",
              "  _uploadFiles,\n",
              "  _uploadFilesContinue,\n",
              "};\n",
              "})(self);\n",
              "</script> "
            ]
          },
          "metadata": {}
        },
        {
          "output_type": "stream",
          "name": "stdout",
          "text": [
            "Saving sample.txt to sample (1).txt\n"
          ]
        }
      ]
    },
    {
      "cell_type": "code",
      "source": [
        "f = open(\"sample (1).txt\",'w')\n",
        "f = f.writelines(str({\"A\":\"90\",\"B\":\"56\"}.items()))\n",
        "print(f)\n",
        "\n",
        "\n"
      ],
      "metadata": {
        "colab": {
          "base_uri": "https://localhost:8080/"
        },
        "id": "RMrHy8Ha5Xzx",
        "outputId": "556cbe1c-d7b7-4d73-b854-7f7700d19c94"
      },
      "execution_count": null,
      "outputs": [
        {
          "output_type": "stream",
          "name": "stdout",
          "text": [
            "None\n"
          ]
        }
      ]
    },
    {
      "cell_type": "code",
      "source": [
        "x =100\n",
        "def fun(n):\n",
        " #global x\n",
        "  x =50\n",
        "  if x%14==0:\n",
        "      x = x+n\n",
        "  else:\n",
        "      x = x-n\n",
        "\n",
        "fun(40)\n",
        "print(x,end = \"@\")\n",
        "print(x)\n"
      ],
      "metadata": {
        "colab": {
          "base_uri": "https://localhost:8080/"
        },
        "id": "zZrTqLSojnFk",
        "outputId": "c267c386-2784-4a1e-9110-d4a852b4063f"
      },
      "execution_count": null,
      "outputs": [
        {
          "output_type": "stream",
          "name": "stdout",
          "text": [
            "100@100\n"
          ]
        }
      ]
    },
    {
      "cell_type": "code",
      "source": [
        "a =2\n",
        "def fun(a):\n",
        " print(3**a)\n",
        "\n",
        "fun(6)"
      ],
      "metadata": {
        "colab": {
          "base_uri": "https://localhost:8080/"
        },
        "id": "xBPK6x7xAeji",
        "outputId": "63900079-8fa9-49d3-a125-61715adfa082"
      },
      "execution_count": null,
      "outputs": [
        {
          "output_type": "stream",
          "name": "stdout",
          "text": [
            "729\n"
          ]
        }
      ]
    },
    {
      "cell_type": "code",
      "execution_count": null,
      "metadata": {
        "colab": {
          "base_uri": "https://localhost:8080/"
        },
        "id": "5f0FPsxnGfeq",
        "outputId": "c248677d-0c4e-43dd-dc23-fb65180de162"
      },
      "outputs": [
        {
          "name": "stdout",
          "output_type": "stream",
          "text": [
            "[10, 15, 20, 2, 5, 30] [9000, 15, 20, 2, 5, 30]\n",
            "11531360\n"
          ]
        }
      ],
      "source": [
        "'''Shallow Copy\n",
        "and Deep Copy'''\n",
        "\n",
        "import copy\n",
        "\n",
        "L =[10,15,20,2,5,30]\n",
        "l1 = copy.deepcopy(L)\n",
        "l1[0]=9000\n",
        "print(L,l1)\n",
        "\n",
        "print(id(l1[1]))\n"
      ]
    },
    {
      "cell_type": "code",
      "execution_count": null,
      "metadata": {
        "colab": {
          "base_uri": "https://localhost:8080/"
        },
        "id": "wRSvUj4PGGdD",
        "outputId": "ca03f46a-d329-45d7-8310-cedb6b472270"
      },
      "outputs": [
        {
          "name": "stdout",
          "output_type": "stream",
          "text": [
            "abc\n",
            "[100, 80, 60, 40]\n"
          ]
        }
      ],
      "source": [
        "l = [\"abc\",\"aAC\"]\n",
        "print(max(l))\n",
        "\n",
        "l = list(range(100,20,-20))\n",
        "print(l)"
      ]
    },
    {
      "cell_type": "code",
      "execution_count": null,
      "metadata": {
        "colab": {
          "base_uri": "https://localhost:8080/"
        },
        "id": "mYD1Sc7sPTSZ",
        "outputId": "cf81ae4a-56f9-4e6e-e49f-8b1a09575892"
      },
      "outputs": [
        {
          "output_type": "stream",
          "name": "stdout",
          "text": [
            "PI,HINDI,SC,MATHEMATICS,CHEMISTRY,PHYSICS,"
          ]
        }
      ],
      "source": [
        "def fun(lst,n):\n",
        "  for i in range(0,n):\n",
        "    if(len(lst[i])<4):\n",
        "      lst[i]=lst[i][::-1]\n",
        "    else:\n",
        "      lst[i]=lst[i]\n",
        "\n",
        "sub =[\"IP\",\"HINDI\",\"CS\",\"MATHEMATICS\",\"CHEMISTRY\",\"PHYSICS\"]\n",
        "fun(sub,6)\n",
        "for i in sub:\n",
        "  print(i,end=\",\")"
      ]
    },
    {
      "cell_type": "code",
      "source": [
        "import random\n",
        "l= [\"a\",\"b\",\"c\",\"d\"]\n",
        "for i in range(4):\n",
        "  x = random.randint(1,3)\n",
        "  print(l[x],end =\"#\")\n",
        "\n",
        "print(random.choice([2,3,4]), end = \" \")"
      ],
      "metadata": {
        "colab": {
          "base_uri": "https://localhost:8080/"
        },
        "id": "xrayXJFkduXz",
        "outputId": "262dc7e6-6fc0-46ce-fd6f-211958fadacd"
      },
      "execution_count": null,
      "outputs": [
        {
          "output_type": "stream",
          "name": "stdout",
          "text": [
            "c#b#c#b#3 "
          ]
        }
      ]
    },
    {
      "cell_type": "code",
      "source": [
        "import random\n",
        "\n",
        "p= [\"A\",\"B\",\"C\",\"D\"]\n",
        "q = random.randint(0,3)\n",
        "\n",
        "for i in p:\n",
        "  for j in range(1,q):\n",
        "    print(i,end = \"\")\n",
        "  print()\n"
      ],
      "metadata": {
        "colab": {
          "base_uri": "https://localhost:8080/"
        },
        "id": "_8rVZzuFnQJX",
        "outputId": "14896f1a-2290-46e4-b317-25fca8dd8d1d"
      },
      "execution_count": null,
      "outputs": [
        {
          "output_type": "stream",
          "name": "stdout",
          "text": [
            "\n",
            "\n",
            "\n",
            "\n"
          ]
        }
      ]
    }
  ],
  "metadata": {
    "colab": {
      "provenance": [],
      "authorship_tag": "ABX9TyN524LyS4f/kEnPr53ODj/Z",
      "include_colab_link": true
    },
    "kernelspec": {
      "display_name": "Python 3",
      "name": "python3"
    },
    "language_info": {
      "name": "python"
    }
  },
  "nbformat": 4,
  "nbformat_minor": 0
}